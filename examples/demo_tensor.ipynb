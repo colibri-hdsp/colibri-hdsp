{
 "cells": [
  {
   "cell_type": "markdown",
   "metadata": {},
   "source": [
    "Libraries"
   ]
  },
  {
   "cell_type": "code",
   "execution_count": 1,
   "metadata": {},
   "outputs": [
    {
     "name": "stdout",
     "output_type": "stream",
     "text": [
      "Current Working Directory  /home/enmartz/Projects/hdsp/colibri-hdsp\n"
     ]
    }
   ],
   "source": [
    "import os \n",
    "os.chdir(os.path.dirname(os.getcwd()))\n",
    "print(\"Current Working Directory \" , os.getcwd())\n",
    "\n",
    "import numpy as np\n",
    "import scipy.io as sio\n",
    "from skimage.transform import resize\n",
    "import matplotlib.pyplot as plt\n",
    "\n",
    "import torch\n",
    "from colibri_hdsp.optics.tensorial import *"
   ]
  },
  {
   "cell_type": "markdown",
   "metadata": {},
   "source": [
    "Parameters"
   ]
  },
  {
   "cell_type": "code",
   "execution_count": 2,
   "metadata": {},
   "outputs": [],
   "source": [
    "M = 32\n",
    "N = M\n",
    "L = 4\n",
    "S = 2"
   ]
  },
  {
   "cell_type": "markdown",
   "metadata": {},
   "source": [
    "Data"
   ]
  },
  {
   "cell_type": "code",
   "execution_count": 45,
   "metadata": {},
   "outputs": [
    {
     "data": {
      "text/plain": [
       "Text(0.5, 1.0, 'Spectral Image')"
      ]
     },
     "execution_count": 45,
     "metadata": {},
     "output_type": "execute_result"
    },
    {
     "data": {
      "image/png": "[encoded data removed]",
      "text/plain": [
       "<Figure size 640x480 with 1 Axes>"
      ]
     },
     "metadata": {},
     "output_type": "display_data"
    }
   ],
   "source": [
    "d = sio.loadmat('colibri-hdsp/examples/data/lego.mat')['hyperimg']\n",
    "d = resize(d[..., ::int(d.shape[-1] / L)], [M, N, L])\n",
    "d = torch.tensor(d, dtype=torch.float32).permute(2, 0, 1)\n",
    "\n",
    "plt.figure()\n",
    "plt.imshow(d[0])\n",
    "plt.title('Spectral Image')"
   ]
  },
  {
   "cell_type": "markdown",
   "metadata": {},
   "source": [
    "Coded Apertures"
   ]
  },
  {
   "cell_type": "code",
   "execution_count": 46,
   "metadata": {},
   "outputs": [],
   "source": [
    "CAs = torch.zeros((S, M, N))\n",
    "for s in range(S):\n",
    "    CAs[s] = torch.round(torch.rand(M, N))"
   ]
  },
  {
   "cell_type": "markdown",
   "metadata": {},
   "source": [
    "Sensing and computation of P and Q"
   ]
  },
  {
   "cell_type": "code",
   "execution_count": 47,
   "metadata": {},
   "outputs": [
    {
     "ename": "RuntimeError",
     "evalue": "The size of tensor a (4) must match the size of tensor b (2) at non-singleton dimension 1",
     "output_type": "error",
     "traceback": [
      "\u001b[0;31m---------------------------------------------------------------------------\u001b[0m",
      "\u001b[0;31mRuntimeError\u001b[0m                              Traceback (most recent call last)",
      "Cell \u001b[0;32mIn[47], line 1\u001b[0m\n\u001b[0;32m----> 1\u001b[0m b \u001b[38;5;241m=\u001b[39m \u001b[43msensingH\u001b[49m\u001b[43m(\u001b[49m\u001b[43md\u001b[49m\u001b[43m,\u001b[49m\u001b[43m \u001b[49m\u001b[43mCAs\u001b[49m\u001b[43m)\u001b[49m\n\u001b[1;32m      2\u001b[0m P \u001b[38;5;241m=\u001b[39m Computep(CAs, L)\n\u001b[1;32m      3\u001b[0m Q \u001b[38;5;241m=\u001b[39m Computeq(CAs, L)\n",
      "File \u001b[0;32m~/Projects/hdsp/colibri-hdsp/colibri_hdsp/optics/tensorial.py:9\u001b[0m, in \u001b[0;36msensingH\u001b[0;34m(hyperimg, gdmd)\u001b[0m\n\u001b[1;32m      6\u001b[0m S \u001b[38;5;241m=\u001b[39m gdmd\u001b[38;5;241m.\u001b[39mshape[\u001b[38;5;241m0\u001b[39m]\n\u001b[1;32m      7\u001b[0m y \u001b[38;5;241m=\u001b[39m torch\u001b[38;5;241m.\u001b[39mzeros(S, M, N \u001b[38;5;241m+\u001b[39m L \u001b[38;5;241m-\u001b[39m \u001b[38;5;241m1\u001b[39m)\n\u001b[0;32m----> 9\u001b[0m y_noshift \u001b[38;5;241m=\u001b[39m \u001b[43mhyperimg\u001b[49m\u001b[43m \u001b[49m\u001b[38;5;241;43m*\u001b[39;49m\u001b[43m \u001b[49m\u001b[43mgdmd\u001b[49m\u001b[43m[\u001b[49m\u001b[38;5;28;43;01mNone\u001b[39;49;00m\u001b[43m]\u001b[49m\n\u001b[1;32m     10\u001b[0m \u001b[38;5;28;01mfor\u001b[39;00m k \u001b[38;5;129;01min\u001b[39;00m \u001b[38;5;28mrange\u001b[39m(L):\n\u001b[1;32m     11\u001b[0m     y[\u001b[38;5;241m.\u001b[39m\u001b[38;5;241m.\u001b[39m\u001b[38;5;241m.\u001b[39m, k:N \u001b[38;5;241m+\u001b[39m k \u001b[38;5;241m-\u001b[39m \u001b[38;5;241m1\u001b[39m] \u001b[38;5;241m=\u001b[39m y[\u001b[38;5;241m.\u001b[39m\u001b[38;5;241m.\u001b[39m\u001b[38;5;241m.\u001b[39m, k:N \u001b[38;5;241m+\u001b[39m k \u001b[38;5;241m-\u001b[39m \u001b[38;5;241m1\u001b[39m] \u001b[38;5;241m+\u001b[39m y_noshift[k]\n",
      "\u001b[0;31mRuntimeError\u001b[0m: The size of tensor a (4) must match the size of tensor b (2) at non-singleton dimension 1"
     ]
    }
   ],
   "source": [
    "b = sensingH(d, CAs)\n",
    "P = Computep(CAs, L)\n",
    "Q = Computeq(CAs, L)\n",
    "\n",
    "plt.figure()\n",
    "plt.imagesc(b[0])\n",
    "plt.title('Measurement')\n",
    "\n",
    "plt.figure()\n",
    "plt.imagesc(P[0, 0])\n",
    "plt.title('P_11')\n",
    "\n",
    "plt.figure()\n",
    "plt.imagesc(Q[0, 0])\n",
    "plt.title('Q_11')"
   ]
  },
  {
   "cell_type": "code",
   "execution_count": null,
   "metadata": {},
   "outputs": [],
   "source": []
  },
  {
   "cell_type": "markdown",
   "metadata": {},
   "source": []
  },
  {
   "cell_type": "code",
   "execution_count": null,
   "metadata": {},
   "outputs": [],
   "source": []
  }
 ],
 "metadata": {
  "kernelspec": {
   "display_name": "pt12",
   "language": "python",
   "name": "python3"
  },
  "language_info": {
   "codemirror_mode": {
    "name": "ipython",
    "version": 3
   },
   "file_extension": ".py",
   "mimetype": "text/x-python",
   "name": "python",
   "nbconvert_exporter": "python",
   "pygments_lexer": "ipython3",
   "version": "3.10.13"
  }
 },
 "nbformat": 4,
 "nbformat_minor": 2
}
