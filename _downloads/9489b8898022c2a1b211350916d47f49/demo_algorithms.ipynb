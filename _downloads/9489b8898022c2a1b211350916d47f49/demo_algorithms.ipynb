{
  "cells": [
    {
      "cell_type": "markdown",
      "metadata": {},
      "source": [
        "\n# Demo Algorithms.\n"
      ]
    },
    {
      "cell_type": "markdown",
      "metadata": {},
      "source": [
        "## Select Working Directory and Device\n\n"
      ]
    },
    {
      "cell_type": "code",
      "execution_count": null,
      "metadata": {
        "collapsed": false
      },
      "outputs": [],
      "source": [
        "import os \nos.chdir(os.path.dirname(os.getcwd()))\nprint(\"Current Working Directory \" , os.getcwd())\n\nimport sys\nsys.path.append(os.path.join(os.getcwd()))\n\n#General imports\nimport matplotlib.pyplot as plt\nimport torch\nimport os\n\n# Set random seed for reproducibility\ntorch.manual_seed(0)\n\nmanual_device = \"cpu\"\n# Check GPU support\nprint(\"GPU support: \", torch.cuda.is_available())\n\nif manual_device:\n    device = manual_device\nelse:\n    device = torch.device(\"cuda:0\" if torch.cuda.is_available() else \"cpu\")"
      ]
    },
    {
      "cell_type": "markdown",
      "metadata": {},
      "source": [
        "## Load dataset\n\n"
      ]
    },
    {
      "cell_type": "code",
      "execution_count": null,
      "metadata": {
        "collapsed": false
      },
      "outputs": [],
      "source": [
        "from colibri.data.datasets import Dataset\n\ndataset_path = 'cifar10'\nkeys = ''\nbatch_size = 1\ndataset = Dataset(dataset_path, keys, batch_size)\nacquisition_name = 'spc' #  ['spc', 'cassi']"
      ]
    },
    {
      "cell_type": "markdown",
      "metadata": {},
      "source": [
        "## Visualize dataset\n\n"
      ]
    },
    {
      "cell_type": "code",
      "execution_count": null,
      "metadata": {
        "collapsed": false
      },
      "outputs": [],
      "source": [
        "from torchvision.utils import make_grid\nfrom colibri.recovery.transforms import DCT2D\n\nsample = next(iter(dataset.train_dataset))[0]"
      ]
    },
    {
      "cell_type": "code",
      "execution_count": null,
      "metadata": {
        "collapsed": false
      },
      "outputs": [],
      "source": [
        "transform_dct = DCT2D()\n\ntheta = transform_dct.forward(sample)\nx_hat = transform_dct.inverse(theta)\n\nerror = torch.norm(sample - x_hat)\nprint(\"Error: \", error  )"
      ]
    },
    {
      "cell_type": "markdown",
      "metadata": {},
      "source": [
        "Optics forward model\n\n"
      ]
    },
    {
      "cell_type": "code",
      "execution_count": null,
      "metadata": {
        "collapsed": false
      },
      "outputs": [],
      "source": [
        "import math\nfrom colibri.optics import SPC, SD_CASSI, DD_CASSI, C_CASSI\n\nimg_size = sample.shape[1:]\n\nacquisition_config = dict(\n    input_shape = img_size,\n)\n\nif acquisition_name == 'spc':\n    n_measurements  = 25**2 \n    n_measurements_sqrt = int(math.sqrt(n_measurements))    \n    acquisition_config['n_measurements'] = n_measurements\n\nacquisition_model = {\n    'spc': SPC(**acquisition_config),\n    'sd_cassi': SD_CASSI(**acquisition_config),\n    'dd_cassi': DD_CASSI(**acquisition_config),\n    'c_cassi': C_CASSI(**acquisition_config)\n}[acquisition_name]\n\ny = acquisition_model(sample)\n\n# Reconstruct image\nfrom colibri.recovery.fista import Fista\nfrom colibri.recovery.terms.prior import Sparsity\nfrom colibri.recovery.terms.fidelity import L2\nfrom colibri.recovery.transforms import DCT2D\n\nalgo_params = {\n    'max_iter': 200,\n    'alpha': 1e-4,\n    'lambda': 0.001,\n    'tol': 1e-3\n}\n\n\n\nfidelity = L2()\nprior = Sparsity()\ntransform = DCT2D()\n\nfista = Fista(fidelity, prior, acquisition_model, algo_params, transform)\n\nx0 = acquisition_model.forward(y, type_calculation=\"backward\")\nx_hat = fista(y, x0=x0 ) \n\nprint(x_hat.shape)\n\nplt.figure(figsize=(10,10))\n\nplt.subplot(1,4,1)\nplt.title('Reference')\nplt.imshow(sample[0,:,:].permute(1, 2, 0), cmap='gray')\nplt.xticks([])\nplt.yticks([])\n\nplt.subplot(1,4,2)\nplt.title('Sparse Representation')\nplt.imshow(abs(theta[0,:,:]).permute(1, 2, 0), cmap='gray')\nplt.xticks([])\nplt.yticks([])\n\n\nif acquisition_name == 'spc':\n    y = y.reshape(y.shape[0], -1, n_measurements_sqrt, n_measurements_sqrt)\n\n\nplt.subplot(1,4,3)\nplt.title('Measurement')\nplt.imshow(y[0,:,:].permute(1, 2, 0), cmap='gray')\nplt.xticks([])\nplt.yticks([])\n\nplt.subplot(1,4,4)\nplt.title('Reconstruction')\nx_hat -= x_hat.min()\nx_hat /= x_hat.max()\nplt.imshow(x_hat[0,:,:].permute(1, 2, 0).detach().cpu().numpy(), cmap='gray')\nplt.xticks([])\nplt.yticks([])"
      ]
    }
  ],
  "metadata": {
    "kernelspec": {
      "display_name": "Python 3",
      "language": "python",
      "name": "python3"
    },
    "language_info": {
      "codemirror_mode": {
        "name": "ipython",
        "version": 3
      },
      "file_extension": ".py",
      "mimetype": "text/x-python",
      "name": "python",
      "nbconvert_exporter": "python",
      "pygments_lexer": "ipython3",
      "version": "3.9.19"
    }
  },
  "nbformat": 4,
  "nbformat_minor": 0
}